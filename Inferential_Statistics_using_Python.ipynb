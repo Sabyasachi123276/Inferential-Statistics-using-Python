{
  "nbformat": 4,
  "nbformat_minor": 0,
  "metadata": {
    "colab": {
      "name": "Inferential Statistics using Python.ipynb",
      "provenance": []
    },
    "kernelspec": {
      "name": "python3",
      "display_name": "Python 3"
    },
    "language_info": {
      "name": "python"
    }
  },
  "cells": [
    {
      "cell_type": "markdown",
      "metadata": {
        "id": "uk0wzkVW2Ph3"
      },
      "source": [
        "**Inferential statistics:** Many times, a collection of the entire data (also known as population in statistical methodology) is impossible, hence a subset of the data points is collected, also called a sample, and conclusions about the entire population will be drawn, which is known as inferential statistics. Inferences are drawn using hypothesis testing, the estimation of numerical characteristics, the correlation of relationships within data, and so on.\n",
        "\n",
        "**Hypothesis testing:** This is the process of making inferences about the overall population by conducting some statistical tests on a sample. Null and alternate hypotheses are ways to validate whether an assumption is statistically significant or not.\n",
        "\n",
        "**P-value:** The probability of obtaining a test statistic result is at least as extreme as the one that was actually observed, assuming that the null hypothesis is true (usually in modeling, against each independent variable, a p-value less than 0.05 is considered significant and greater than 0.05 is considered insignificant; nonetheless, these values and definitions may change with respect to context).\n",
        "\n",
        "The steps involved in hypothesis testing are as follows:\n",
        "\n",
        "1. Assume a null hypothesis (usually no difference, no significance, and\n",
        "so on; a null hypothesis always tries to assume that there is no anomaly\n",
        "pattern and is always homogeneous, and so on).\n",
        "\n",
        "2. Collect the sample.\n",
        "\n",
        "3. Calculate test statistics from the sample in order to verify whether the\n",
        "hypothesis is statistically significant or not.\n",
        "\n",
        "4. Decide either to accept or reject the null hypothesis based on the test\n",
        "statistic.\n",
        "\n",
        "**Example of hypothesis testing:** A chocolate manufacturer who is also your\n",
        "friend claims that all chocolates produced from his factory weigh at least 1,000 g and you have got a funny feeling that it might not be true; you both collected a sample of 30 chocolates and found that the average chocolate weight as 990 g with sample standard deviation as 12.5 g. Given the 0.05 significance level, can we reject the claim made by your friend?\n",
        "\n",
        "The Python code for T-distribution is as follows:"
      ]
    },
    {
      "cell_type": "code",
      "metadata": {
        "colab": {
          "base_uri": "https://localhost:8080/"
        },
        "id": "QJEkDOh5Y6IZ",
        "outputId": "56d67f9d-cbd8-453f-c7b1-8025466ece7e"
      },
      "source": [
        "import numpy as np\n",
        "from scipy import stats\n",
        "\n",
        "xbar = 990; mu0 = 1000; s = 12.5; n = 30\n",
        "\n",
        "# Test Statistic\n",
        "t_smple = (xbar-mu0)/(s/np.sqrt(float(n))); \n",
        "print (\"Test Statistic:\",round(t_smple,2))\n",
        "\n",
        "# Critical value from t-table\n",
        "alpha = 0.05\n",
        "t_alpha = stats.t.ppf(alpha,n-1); \n",
        "print (\"Critical value from t-table:\",round(t_alpha,3))\n",
        "\n",
        "#Lower tail p-value from t-table\n",
        "p_val = stats.t.sf(np.abs(t_smple), n-1); \n",
        "print (\"Lower tail p-value from t-table\", p_val)"
      ],
      "execution_count": 2,
      "outputs": [
        {
          "output_type": "stream",
          "name": "stdout",
          "text": [
            "Test Statistic: -4.38\n",
            "Critical value from t-table: -1.699\n",
            "Lower tail p-value from t-table 7.035025729010886e-05\n"
          ]
        }
      ]
    },
    {
      "cell_type": "markdown",
      "metadata": {
        "id": "qQMTmrseCYdv"
      },
      "source": [
        "**Type I and II error:** Hypothesis testing is usually done on the samples rather than the entire population, due to the practical constraints of available resources to collect all the available data. However, performing inferences about the population from samples comes with its own costs, such as rejecting good results or accepting false results, not to mention separately, when increases in sample size lead to minimizing type I and II errors:\n",
        "\n",
        "**Type I error:** Rejecting a null hypothesis when it is true.\n",
        "\n",
        "**Type II error:** Accepting a null hypothesis when it is false.\n",
        "\n",
        "**Normal distribution:** This is very important in statistics because of the central limit theorem, which states that the population of all possible samples of size n from a population with mean μ and variance σ2 approaches a normal\n",
        "distribution: \n",
        "![image.png](data:image/png;base64,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)\n",
        "\n",
        "Calculations of the quantiles and cumulative distribution functions (CDFs) values are\n",
        "required in inferential statistics, when constructing confidence intervals or for the implementation of hypothesis tests, especially for the calculation of the p-value. Functions available in Python allow us to obtain these values. We do not longer need to use statistical tables.\n",
        "\n",
        "**Example:** Assume that the test scores of an entrance exam fit a normal\n",
        "distribution. Furthermore, the mean test score is 52 and the standard\n",
        "deviation is 16.3. What is the percentage of students scoring 67 or more in the\n",
        "exam?\n",
        "\n",
        "The Python code is as follows:"
      ]
    },
    {
      "cell_type": "code",
      "metadata": {
        "colab": {
          "base_uri": "https://localhost:8080/"
        },
        "id": "6Elvj-wh1n3G",
        "outputId": "f42d63aa-ba27-4189-bee2-75e327601852"
      },
      "source": [
        "from scipy import stats\n",
        "xbar = 67; mu0 = 52; s = 16.3\n",
        "\n",
        "# Calculating z-score\n",
        "z = (67-52)/16.3\n",
        "\n",
        "# Calculating probability under the curve\n",
        "p_val = 1- stats.norm.cdf(z)\n",
        "print (\"Prob. to score more than 67 is\",round(p_val*100,2),\"%\")"
      ],
      "execution_count": 3,
      "outputs": [
        {
          "output_type": "stream",
          "name": "stdout",
          "text": [
            "Prob. to score more than 67 is 17.87 %\n"
          ]
        }
      ]
    },
    {
      "cell_type": "markdown",
      "metadata": {
        "id": "5K0ju8ZDjV9I"
      },
      "source": [
        "Let us explore few more examples on normal distribution. \n",
        "\n",
        "**Example:** For a normal distribution, what is the probability of less than x = 1.65 ?"
      ]
    },
    {
      "cell_type": "code",
      "metadata": {
        "colab": {
          "base_uri": "https://localhost:8080/"
        },
        "id": "JJuxoksElTFF",
        "outputId": "6d4be378-9db0-43c9-dbf3-fba662b38d79"
      },
      "source": [
        "from scipy import stats\n",
        "stats.norm.cdf(1.65)"
      ],
      "execution_count": 2,
      "outputs": [
        {
          "output_type": "execute_result",
          "data": {
            "text/plain": [
              "0.9505285319663519"
            ]
          },
          "metadata": {},
          "execution_count": 2
        }
      ]
    },
    {
      "cell_type": "markdown",
      "metadata": {
        "id": "abPOk7M6l-Br"
      },
      "source": [
        "**Example:** Calculate the p-value for the standard normal distribution in a right\n",
        "tailed test. Find the probability of more than z = 2.1 . "
      ]
    },
    {
      "cell_type": "code",
      "metadata": {
        "colab": {
          "base_uri": "https://localhost:8080/"
        },
        "id": "2Z-2voQdmrE3",
        "outputId": "cab97be2-b626-4b23-e59e-ec524484e4d0"
      },
      "source": [
        "from scipy import stats\n",
        "1-stats.norm.cdf(2.1)"
      ],
      "execution_count": 4,
      "outputs": [
        {
          "output_type": "execute_result",
          "data": {
            "text/plain": [
              "0.017864420562816563"
            ]
          },
          "metadata": {},
          "execution_count": 4
        }
      ]
    },
    {
      "cell_type": "markdown",
      "metadata": {
        "id": "S--PHRlOniRo"
      },
      "source": [
        "We can also solve the same problem using **Survival function (also defined as 1 - cdf, but sf is sometimes more accurate)**.\n",
        "\n"
      ]
    },
    {
      "cell_type": "code",
      "metadata": {
        "colab": {
          "base_uri": "https://localhost:8080/"
        },
        "id": "EKL50RfLnxdn",
        "outputId": "a3b3ff6f-e921-406e-f248-fdc42e1e3bb5"
      },
      "source": [
        "stats.norm.sf(2.1)"
      ],
      "execution_count": 5,
      "outputs": [
        {
          "output_type": "execute_result",
          "data": {
            "text/plain": [
              "0.017864420562816542"
            ]
          },
          "metadata": {},
          "execution_count": 5
        }
      ]
    },
    {
      "cell_type": "markdown",
      "metadata": {
        "id": "eUIpBcZGoZDm"
      },
      "source": [
        "**Example:** Calculate the p-value for the standard normal distribution in a two-tailed test. Find the probability of more than z = 2.1"
      ]
    },
    {
      "cell_type": "code",
      "metadata": {
        "colab": {
          "base_uri": "https://localhost:8080/"
        },
        "id": "wT1i8t9eorGh",
        "outputId": "2d3cc29f-6195-4fcf-8a57-36ce3e112812"
      },
      "source": [
        "2 * (1 - stats.norm.cdf(2.1))"
      ],
      "execution_count": 6,
      "outputs": [
        {
          "output_type": "execute_result",
          "data": {
            "text/plain": [
              "0.035728841125633126"
            ]
          },
          "metadata": {},
          "execution_count": 6
        }
      ]
    },
    {
      "cell_type": "markdown",
      "metadata": {
        "id": "dcZ5TI77qOby"
      },
      "source": [
        "**Example:** Find the percent point function [PPF (q)] of the standard normal distribution for the probability (1 – α) = 0.95. \n",
        "\n",
        "Note: Percent point function (inverse of cdf — percentiles)."
      ]
    },
    {
      "cell_type": "code",
      "metadata": {
        "colab": {
          "base_uri": "https://localhost:8080/"
        },
        "id": "Hy4FYBRmqkBf",
        "outputId": "8ec3b134-baed-44da-89b2-25cba9361587"
      },
      "source": [
        "stats.norm.ppf(0.95)"
      ],
      "execution_count": 7,
      "outputs": [
        {
          "output_type": "execute_result",
          "data": {
            "text/plain": [
              "1.6448536269514722"
            ]
          },
          "metadata": {},
          "execution_count": 7
        }
      ]
    },
    {
      "cell_type": "markdown",
      "metadata": {
        "id": "Rw7uIc8Krm-e"
      },
      "source": [
        "**Example:** Generate random numbers from standard normal distribution\n",
        "N(μ=0,σ=1)"
      ]
    },
    {
      "cell_type": "code",
      "metadata": {
        "colab": {
          "base_uri": "https://localhost:8080/"
        },
        "id": "9X5c6a3mv4oT",
        "outputId": "b0f324a4-2d27-42c2-f615-e6d42ff5537a"
      },
      "source": [
        "from scipy import stats\n",
        "stats.norm.rvs(loc=0,scale=1)\n"
      ],
      "execution_count": 4,
      "outputs": [
        {
          "output_type": "execute_result",
          "data": {
            "text/plain": [
              "0.6999811814338295"
            ]
          },
          "metadata": {},
          "execution_count": 4
        }
      ]
    },
    {
      "cell_type": "markdown",
      "metadata": {
        "id": "uoOIcGyJwi3H"
      },
      "source": [
        "Here, rvs() function helps to generate random variates."
      ]
    },
    {
      "cell_type": "markdown",
      "metadata": {
        "id": "QhovbB-KBSCg"
      },
      "source": [
        "**STUDENT’S T-DISTRIBUTION**: In probability and statistics, Student's t-distribution (or simply the t-distribution) is any member of a family of continuous probability distributions that arise when estimating the mean of a normally-distributed population in situations where the sample size is small and the population's standard deviation is unknown. It was developed by English statistician William Sealy Gosset under the pseudonym \"Student\".\n",
        "\n",
        "**Example:** Find the probability of less than t = 1.5 with k = 10.\n",
        "\n",
        "**Note:** CDF of Student’s t-distribution is with k (k > 0) degrees of freedom. "
      ]
    },
    {
      "cell_type": "code",
      "metadata": {
        "colab": {
          "base_uri": "https://localhost:8080/"
        },
        "id": "PDnIOO-cWS-n",
        "outputId": "b4945ce7-75c3-4b13-c3ab-10e798b376c4"
      },
      "source": [
        "from scipy import stats\n",
        "stats.t.cdf(1.5,df=10)"
      ],
      "execution_count": 2,
      "outputs": [
        {
          "output_type": "execute_result",
          "data": {
            "text/plain": [
              "0.9177463367772799"
            ]
          },
          "metadata": {},
          "execution_count": 2
        }
      ]
    },
    {
      "cell_type": "markdown",
      "metadata": {
        "id": "toBC86nvWrRZ"
      },
      "source": [
        "Here, name of the argument is 'degree of freedom df = 10'."
      ]
    },
    {
      "cell_type": "markdown",
      "metadata": {
        "id": "3fyAWnDkXc4x"
      },
      "source": [
        "**Example:** Find PPF (q) of the Student’s t-distribution with k = 10 degrees\n",
        "of freedom for the probability (1 – α) = 0.95"
      ]
    },
    {
      "cell_type": "code",
      "metadata": {
        "colab": {
          "base_uri": "https://localhost:8080/"
        },
        "id": "mN0G1BH-Xs65",
        "outputId": "43332c1d-ced6-4697-9949-9c09f846a971"
      },
      "source": [
        "stats.t.ppf(0.95,df=10)"
      ],
      "execution_count": 3,
      "outputs": [
        {
          "output_type": "execute_result",
          "data": {
            "text/plain": [
              "1.8124611228107335"
            ]
          },
          "metadata": {},
          "execution_count": 3
        }
      ]
    },
    {
      "cell_type": "markdown",
      "metadata": {
        "id": "cO9PXNRyZIz8"
      },
      "source": [
        "**Chi-square:** This test of independence is one of the most basic and common\n",
        "hypothesis tests in the statistical analysis of categorical data. Given two\n",
        "categorical random variables X and Y, the chi-square test of independence\n",
        "determines whether or not there exists a statistical dependence between them.\n",
        "The test is usually performed by calculating χ2 from the data and χ2 with\n",
        "(m-1, n-1) degrees from the table. A decision is made as to whether both\n",
        "variables are independent based on the actual value and table value,\n",
        "whichever is higher:\n",
        "![image.png](data:image/png;base64,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)"
      ]
    },
    {
      "cell_type": "markdown",
      "metadata": {
        "id": "GNZlEZYearxy"
      },
      "source": [
        "**Example:** When CDF of the CHI-SQUARED distribution with k (k > 0) degrees of freedom, find probability of less than t = 12.0 with k = 5."
      ]
    },
    {
      "cell_type": "code",
      "metadata": {
        "colab": {
          "base_uri": "https://localhost:8080/"
        },
        "id": "Z3peV1-eaMi6",
        "outputId": "a71f413c-9566-4064-a6d3-e4e469b384a0"
      },
      "source": [
        "stats.chi2.cdf(12.0,df=5)"
      ],
      "execution_count": 5,
      "outputs": [
        {
          "output_type": "execute_result",
          "data": {
            "text/plain": [
              "0.9652122194937581"
            ]
          },
          "metadata": {},
          "execution_count": 5
        }
      ]
    },
    {
      "cell_type": "markdown",
      "metadata": {
        "id": "lRxdkQDQbQAs"
      },
      "source": [
        "**Example:** Find PPF (q) of the chi-squared distribution with k = 7 degrees of\n",
        "freedom for the probability (1 – α) = 0.95."
      ]
    },
    {
      "cell_type": "code",
      "metadata": {
        "colab": {
          "base_uri": "https://localhost:8080/"
        },
        "id": "wN73Ktv6bKpd",
        "outputId": "46a08e01-aeed-4a1f-91dc-165f3c325770"
      },
      "source": [
        "stats.chi2.ppf(0.95, df=7)"
      ],
      "execution_count": 6,
      "outputs": [
        {
          "output_type": "execute_result",
          "data": {
            "text/plain": [
              "14.067140449340169"
            ]
          },
          "metadata": {},
          "execution_count": 6
        }
      ]
    },
    {
      "cell_type": "markdown",
      "metadata": {
        "id": "T0xUlykPcXA5"
      },
      "source": [
        "**Example:** In the following table, calculate whether the smoking habit has an\n",
        "impact on exercise behavior:\n",
        "![image.png](data:image/png;base64,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)"
      ]
    },
    {
      "cell_type": "markdown",
      "metadata": {
        "id": "6AGSb441mpZQ"
      },
      "source": [
        "The Python code is as follows:"
      ]
    },
    {
      "cell_type": "code",
      "metadata": {
        "colab": {
          "base_uri": "https://localhost:8080/"
        },
        "id": "EqCe8J2IqGfV",
        "outputId": "e7dc194a-091f-4b18-fae3-b43c748f1aa0"
      },
      "source": [
        "import csv\n",
        "# field names \n",
        "fields = ['Exercise: Frequent', 'Exercise: None', 'Exercise: Sometimes'] \n",
        "# data rows of csv file \n",
        "rows = [['Smoke: Heavy', '7', '1', '3'], \n",
        "         ['Smoke: Never', '87', '18', '84'], \n",
        "         ['Smoke: Occasional', '12', '3', '4'], \n",
        "         ['Smoke: Regularly', '9', '1', '7']] \n",
        "# name of csv file \n",
        "filename = \"survey.csv\"\n",
        "# writing to csv file \n",
        "with open(filename, 'w') as csvfile: \n",
        "    # creating a csv writer object \n",
        "    csvwriter = csv.writer(csvfile) \n",
        "        \n",
        "    # writing the fields \n",
        "    csvwriter.writerow(fields) \n",
        "        \n",
        "    # writing the data rows \n",
        "    csvwriter.writerows(rows)\n",
        "    file = open('survey.csv')\n",
        "\n",
        "type(file)\n",
        "import pandas as pd\n",
        "from scipy import stats\n",
        "survey = pd.read_csv(\"survey.csv\")\n",
        "print(survey)\n",
        "Exercise=survey.columns\n",
        "Smoke=survey.index\n",
        "\n",
        "#print(survey.columns)\n",
        "#print(survey.index)\n",
        "# Tabulating 2 variables with row & column variables respectively\n",
        "survey_tab = pd.crosstab(Smoke[0:3], Exercise, margins = True)\n",
        "print(survey_tab)\n",
        "#Creating observed table for analysis\n",
        "observed = survey_tab\n",
        "contg = stats.chi2_contingency(observed= observed)\n",
        "#print(contg)\n",
        "p_value = round(contg[1],3)\n",
        "print (\"P-value is: \",p_value)"
      ],
      "execution_count": 57,
      "outputs": [
        {
          "output_type": "stream",
          "name": "stdout",
          "text": [
            "                   Exercise: Frequent  Exercise: None  Exercise: Sometimes\n",
            "Smoke: Heavy                        7               1                    3\n",
            "Smoke: Never                       87              18                   84\n",
            "Smoke: Occasional                  12               3                    4\n",
            "Smoke: Regularly                    9               1                    7\n",
            "col_0              Exercise: Frequent  Exercise: None  Exercise: Sometimes  All\n",
            "row_0                                                                          \n",
            "Smoke: Heavy                        1               0                    0    1\n",
            "Smoke: Never                        0               1                    0    1\n",
            "Smoke: Occasional                   0               0                    1    1\n",
            "All                                 1               1                    1    3\n",
            "P-value is:  0.74\n"
          ]
        }
      ]
    },
    {
      "cell_type": "markdown",
      "metadata": {
        "id": "GtYoVP0RUtvP"
      },
      "source": [
        "The p-value is 0.74, which means there is no dependency between the smoking habit and exercise behavior.\n",
        "\n",
        "**Note:** The chi2_contingency function in the stats package uses the observed\n",
        "table and subsequently calculates its expected table, followed by calculating\n",
        "the p-value in order to check whether two variables are dependent or not. If\n",
        "p-value < 0.05, there is a strong dependency between two variables, whereas if\n",
        "p-value > 0.05, there is no dependency between the variables.\n",
        "\n",
        "\n"
      ]
    },
    {
      "cell_type": "markdown",
      "metadata": {
        "id": "j9SVRw1Xc9ZF"
      },
      "source": [
        "**Analysis of variance (ANOVA):** Analyzing variance tests the hypothesis that the means of two or more populations are equal and therefore generalizes the t-test beyond two means. ANOVAs assess the importance of one or more factors by\n",
        "comparing the response variable means at the different factor levels. The null\n",
        "hypothesis states that all population means are equal while the alternative\n",
        "hypothesis states that at least one is different. ANOVA was developed by the statistician Ronald Fisher.\n",
        "\n",
        "**Example:** A fertilizer company developed three new types of universal\n",
        "fertilizers after research that can be utilized to grow any type of crop. In\n",
        "order to find out whether all three have a similar crop yield, they randomly\n",
        "chose six crop types in the study. In accordance with the randomized block\n",
        "design, each crop type will be tested with all three types of fertilizer\n",
        "separately. The following table represents the yield in g/m2. At the 0.05 level\n",
        "of significance, test whether the mean yields for the three new types of\n",
        "fertilizers are all equal.\n"
      ]
    },
    {
      "cell_type": "markdown",
      "metadata": {
        "id": "_CzBZn77dyB-"
      },
      "source": [
        "The Python code is as follows:"
      ]
    },
    {
      "cell_type": "code",
      "metadata": {
        "colab": {
          "base_uri": "https://localhost:8080/"
        },
        "id": "VWzSD_nxYYUx",
        "outputId": "12b4fe8d-0461-46e9-dcc3-dfda8b1b3ec1"
      },
      "source": [
        "import csv\n",
        "# field names \n",
        "fields = ['Fertilizer 1', 'Fertilizer 2', 'Fertilizer 3'] \n",
        "# data rows of csv file \n",
        "rows = [['62', '54', '48'], \n",
        "         ['62', '56', '62'], \n",
        "         ['90', '58', '92'], \n",
        "         ['42', '36', '96'],\n",
        "        ['84', '72', '92'],\n",
        "        ['64', '34', '80']] \n",
        "# name of csv file \n",
        "filename = \"fertilizers.csv\"\n",
        "# writing to csv file \n",
        "with open(filename, 'w') as csvfile: \n",
        "    # creating a csv writer object \n",
        "    csvwriter = csv.writer(csvfile) \n",
        "        \n",
        "    # writing the fields \n",
        "    csvwriter.writerow(fields) \n",
        "        \n",
        "    # writing the data rows \n",
        "    csvwriter.writerows(rows)\n",
        "    file = open('fertilizers.csv')\n",
        "\n",
        "type(file)\n",
        "import pandas as pd\n",
        "from scipy import stats\n",
        "fertilizers = pd.read_csv(\"fertilizers.csv\")\n",
        "print(fertilizers)\n",
        "one_way_anova = stats.f_oneway(fertilizers[\"Fertilizer 1\"],fertilizers[\"Fertilizer 2\"], fertilizers[\"Fertilizer 3\"])\n",
        "print(one_way_anova)\n",
        "print (\"Statistic :\", round(one_way_anova[0],2),\", p-value:\",round(one_way_anova[1],2))"
      ],
      "execution_count": 65,
      "outputs": [
        {
          "output_type": "stream",
          "name": "stdout",
          "text": [
            "   Fertilizer 1  Fertilizer 2  Fertilizer 3\n",
            "0            62            54            48\n",
            "1            62            56            62\n",
            "2            90            58            92\n",
            "3            42            36            96\n",
            "4            84            72            92\n",
            "5            64            34            80\n",
            "F_onewayResult(statistic=3.6634935025687523, pvalue=0.05063590143901569)\n",
            "Statistic : 3.66 , p-value: 0.05\n"
          ]
        }
      ]
    },
    {
      "cell_type": "markdown",
      "metadata": {
        "id": "_OCDZGaNeIme"
      },
      "source": [
        "**Result:** The p-value equals to 0.05, hence we can reject the null\n",
        "hypothesis that the mean crop yields of the fertilizers are equal. Fertilizers\n",
        "make a significant difference to crops."
      ]
    },
    {
      "cell_type": "markdown",
      "metadata": {
        "id": "EN5a6z5gqjIH"
      },
      "source": [
        "**F-distribution:** In probability theory and statistics, the **F-distribution** or **F-ratio**, also known as Snedecor's F distribution or the Fisher–Snedecor distribution (after Ronald Fisher and George W. Snedecor) is a continuous probability distribution that arises frequently as the null distribution of a test statistic, most notably in the analysis of variance (ANOVA) and other F-tests. It is a probability density function that is used especially in analysis of variance and is a function of the ratio of two independent random variables each of which has a chi-square distribution and is divided by its number of degrees of freedom.\n",
        "\n",
        "The F-distribution with d1 and d2 degrees of freedom is the distribution of\n",
        "\n",
        "![image.png](data:image/png;base64,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)\n",
        "\n",
        "where S1 and S2 are independent random variables with chi-square distributions with respective degrees of freedom d1 and d2."
      ]
    },
    {
      "cell_type": "markdown",
      "metadata": {
        "id": "8grsgBXgnUAL"
      },
      "source": [
        "**Example:** When CDF of F-distribution with d1 (d1 > 0) and d2 (d2 > 0) degrees of freedom, find the probability of less than x = 3.5 with (d1 = 4, d2 = 26)."
      ]
    },
    {
      "cell_type": "code",
      "metadata": {
        "colab": {
          "base_uri": "https://localhost:8080/"
        },
        "id": "Rqy6hsDfmuEA",
        "outputId": "76fe1447-e76e-4a7d-f126-c303da26c096"
      },
      "source": [
        "stats.f.cdf(3.5,dfn=4,dfd=26)"
      ],
      "execution_count": 66,
      "outputs": [
        {
          "output_type": "execute_result",
          "data": {
            "text/plain": [
              "0.9794805073048461"
            ]
          },
          "metadata": {},
          "execution_count": 66
        }
      ]
    },
    {
      "cell_type": "markdown",
      "metadata": {
        "id": "GVQIrISFnLYH"
      },
      "source": [
        "**Example:** Find PPF (q) of the F-Distribution with (d1 = 4, d2 = 26) degrees\n",
        "of freedom for the probability (1 – α) = 0.95"
      ]
    },
    {
      "cell_type": "code",
      "metadata": {
        "colab": {
          "base_uri": "https://localhost:8080/"
        },
        "id": "FVcGyiSQm85N",
        "outputId": "fb1b15c0-5292-4f51-cef3-b7d21d221e41"
      },
      "source": [
        "stats.f.ppf(0.95,dfn=4,dfd=26)"
      ],
      "execution_count": 67,
      "outputs": [
        {
          "output_type": "execute_result",
          "data": {
            "text/plain": [
              "2.7425941372218587"
            ]
          },
          "metadata": {},
          "execution_count": 67
        }
      ]
    }
  ]
}